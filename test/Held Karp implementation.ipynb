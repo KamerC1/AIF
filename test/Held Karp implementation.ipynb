{
 "cells": [
  {
   "cell_type": "markdown",
   "metadata": {},
   "source": [
    "Implementa algoritmo Held-Karp per risolvere il problema del comesso viaggiattore in modo ottimale"
   ]
  },
  {
   "cell_type": "code",
   "execution_count": 164,
   "metadata": {},
   "outputs": [],
   "source": [
    "import sys\n",
    "sys.path.append('..')\n",
    "\n",
    "from WorldParser import WorldParser\n",
    "from GeneticAlgorithm import GeneticAlgorithm\n",
    "import networkx as nx\n",
    "\n",
    "\n",
    "des_file = \"\"\"\n",
    "MAZE: \"mylevel\", ' '\n",
    "FLAGS:premapped\n",
    "GEOMETRY:center,center\n",
    "\n",
    "MAP\n",
    "|||||||||||||\n",
    "|...........|\n",
    "|..|........|\n",
    "|...........|\n",
    "|.......|...|\n",
    "|.....|.....|\n",
    "|...|....|..|\n",
    "|||||||||||||\n",
    "ENDMAP\n",
    "\n",
    "BRANCH:(1,1,1,1),(0,0,0,0)\n",
    "GOLD:1,(1,2)\n",
    "GOLD:1,(2,1)\n",
    "GOLD:1,(7,4)\n",
    "GOLD:1,(9,4)\n",
    "GOLD:1,(11,5)\n",
    "GOLD:1,(6,1)\n",
    "\n",
    "\"\"\"\n",
    "\n",
    "starting_position = (1,1)"
   ]
  },
  {
   "cell_type": "code",
   "execution_count": 165,
   "metadata": {},
   "outputs": [],
   "source": [
    "def calculate_distances(G, points):\n",
    "    \"\"\"\n",
    "    Restituisce un dizionare dove per ogni punto calcola la distanza minima con tutti gli altri punti.\n",
    "    \"\"\"\n",
    "    \n",
    "    distances = {}\n",
    "    for point in points:\n",
    "        lengths = nx.single_source_dijkstra_path_length(G, point)\n",
    "        distances[point] = {other: lengths[other] for other in points if other in lengths}\n",
    "    return distances"
   ]
  },
  {
   "cell_type": "code",
   "execution_count": 166,
   "metadata": {},
   "outputs": [],
   "source": [
    "parser = WorldParser(des_file)\n",
    "gold_positions = parser.extract_gold_positions()\n",
    "world_graph = parser.extract_world_graph()"
   ]
  },
  {
   "cell_type": "code",
   "execution_count": 167,
   "metadata": {},
   "outputs": [],
   "source": [
    "start = (1, 1)\n",
    "world_graph = parser.extract_world_graph()\n",
    "distances = calculate_distances(world_graph, gold_positions + [start])\n",
    "\n",
    "dist = [[distances[i][j] for j in distances[i]] for i in distances] #matrice delle distanze\n",
    "n = len(dist) -1"
   ]
  },
  {
   "cell_type": "code",
   "execution_count": 168,
   "metadata": {},
   "outputs": [
    {
     "name": "stdout",
     "output_type": "stream",
     "text": [
      "The cost of most efficient tour = 21\n"
     ]
    }
   ],
   "source": [
    "# This code is contributed by Serjeel Ranjan (https://www.geeksforgeeks.org/traveling-salesman-problem-tsp-in-python/)\n",
    "\n",
    "# memoization for top down recursion\n",
    "memo = [[-1]*(1 << (n+1)) for _ in range(n+1)]\n",
    "\n",
    "\n",
    "def fun(i, mask):\n",
    "    # base case\n",
    "    # if only ith bit and 1st bit is set in our mask,\n",
    "    # it implies we have visited all other nodes already\n",
    "    if mask == ((1 << i) | 3):\n",
    "        return dist[1][i]\n",
    "\n",
    "    # memoization\n",
    "    if memo[i][mask] != -1:\n",
    "        return memo[i][mask]\n",
    "\n",
    "    res = 10**9  # result of this sub-problem\n",
    "\n",
    "    # we have to travel all nodes j in mask and end the path at ith node\n",
    "    # so for every node j in mask, recursively calculate cost of\n",
    "    # travelling all nodes in mask\n",
    "    # except i and then travel back from node j to node i taking\n",
    "    # the shortest path take the minimum of all possible j nodes\n",
    "    for j in range(1, n+1):\n",
    "        if (mask & (1 << j)) != 0 and j != i and j != 1:\n",
    "            res = min(res, fun(j, mask & (~(1 << i))) + dist[j][i])\n",
    "    memo[i][mask] = res  # storing the minimum value\n",
    "    return res\n",
    "\n",
    "\n",
    "# Driver program to test above logic\n",
    "ans = 10**9\n",
    "for i in range(1, n+1):\n",
    "    # try to go from node 1 visiting all nodes in between to i\n",
    "    # then return from i taking the shortest route to 1\n",
    "    ans = min(ans, fun(i, (1 << (n+1))-1) + dist[i][1]) + 1\n",
    "\n",
    "print(\"The cost of most efficient tour = \" + str(ans))"
   ]
  }
 ],
 "metadata": {
  "kernelspec": {
   "display_name": "nle",
   "language": "python",
   "name": "python3"
  },
  "language_info": {
   "codemirror_mode": {
    "name": "ipython",
    "version": 3
   },
   "file_extension": ".py",
   "mimetype": "text/x-python",
   "name": "python",
   "nbconvert_exporter": "python",
   "pygments_lexer": "ipython3",
   "version": "3.8.19"
  }
 },
 "nbformat": 4,
 "nbformat_minor": 2
}
