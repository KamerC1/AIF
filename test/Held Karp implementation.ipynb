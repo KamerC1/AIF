{
 "cells": [
  {
   "cell_type": "markdown",
   "metadata": {},
   "source": [
    "Implementa algoritmo Held-Karp per risolvere il problema del comesso viaggiattore in modo ottimale"
   ]
  },
  {
   "cell_type": "code",
   "execution_count": 1,
   "metadata": {},
   "outputs": [],
   "source": [
    "import sys\n",
    "sys.path.append('..')\n",
    "\n",
    "from WorldParser import WorldParser\n",
    "import networkx as nx\n",
    "from HeldKarp import HeldKarp\n",
    "\n",
    "\n",
    "des_file = \"\"\"\n",
    "MAZE: \"mylevel\", ' '\n",
    "FLAGS:premapped\n",
    "GEOMETRY:center,center\n",
    "\n",
    "MAP\n",
    "|||||||||||||\n",
    "|...........|\n",
    "|..|........|\n",
    "|...........|\n",
    "|.......|...|\n",
    "|.....|.....|\n",
    "|...|....|..|\n",
    "|||||||||||||\n",
    "ENDMAP\n",
    "\n",
    "BRANCH:(1,1,1,1),(0,0,0,0)\n",
    "GOLD:1,(1,2)\n",
    "GOLD:1,(2,1)\n",
    "GOLD:1,(7,4)\n",
    "GOLD:1,(9,4)\n",
    "GOLD:1,(11,5)\n",
    "GOLD:1,(6,1)\n",
    "\n",
    "\"\"\"\n",
    "\n",
    "starting_position = (1,1)"
   ]
  },
  {
   "cell_type": "code",
   "execution_count": 2,
   "metadata": {},
   "outputs": [],
   "source": [
    "def calculate_distances(G, points):\n",
    "    \"\"\"\n",
    "    Restituisce un dizionare dove per ogni punto calcola la distanza minima con tutti gli altri punti.\n",
    "    \"\"\"\n",
    "    \n",
    "    distances = {}\n",
    "    for point in points:\n",
    "        lengths = nx.single_source_dijkstra_path_length(G, point)\n",
    "        distances[point] = {other: lengths[other] for other in points if other in lengths}\n",
    "    return distances"
   ]
  },
  {
   "cell_type": "code",
   "execution_count": 3,
   "metadata": {},
   "outputs": [],
   "source": [
    "parser = WorldParser(des_file)\n",
    "gold_positions = parser.extract_gold_positions()\n",
    "world_graph = parser.extract_world_graph()"
   ]
  },
  {
   "cell_type": "code",
   "execution_count": 4,
   "metadata": {},
   "outputs": [
    {
     "data": {
      "text/plain": [
       "20"
      ]
     },
     "execution_count": 4,
     "metadata": {},
     "output_type": "execute_result"
    }
   ],
   "source": [
    "heldKarp = HeldKarp(world_graph, gold_positions, starting_position)\n",
    "heldKarp.TSP()"
   ]
  }
 ],
 "metadata": {
  "kernelspec": {
   "display_name": "nle",
   "language": "python",
   "name": "python3"
  },
  "language_info": {
   "codemirror_mode": {
    "name": "ipython",
    "version": 3
   },
   "file_extension": ".py",
   "mimetype": "text/x-python",
   "name": "python",
   "nbconvert_exporter": "python",
   "pygments_lexer": "ipython3",
   "version": "3.8.19"
  }
 },
 "nbformat": 4,
 "nbformat_minor": 2
}
